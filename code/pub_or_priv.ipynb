{
 "cells": [
  {
   "cell_type": "code",
   "execution_count": 2,
   "id": "ff45800b",
   "metadata": {},
   "outputs": [],
   "source": [
    "import pandas as pd\n",
    "import matplotlib.pyplot as plt\n",
    "import numpy as np"
   ]
  },
  {
   "cell_type": "code",
   "execution_count": 4,
   "id": "3b11c3b3",
   "metadata": {},
   "outputs": [],
   "source": [
    "dados_resultados = pd.read_csv(\"../DADOS/resultados.csv\", sep=\";\", encoding=\"latin1\")"
   ]
  },
  {
   "cell_type": "code",
   "execution_count": null,
   "id": "8dbc79bd",
   "metadata": {},
   "outputs": [],
   "source": [
    "\n",
    "dados_resultados = dados_resultados.drop(['NU_SEQUENCIAL', 'NU_ANO', 'CO_ESCOLA', 'NO_MUNICIPIO_ESC', 'CO_UF_ESC', 'SG_UF_ESC', \n",
    "       'TP_LOCALIZACAO_ESC', 'TP_SIT_FUNC_ESC', 'CO_MUNICIPIO_PROVA',\n",
    "       'NO_MUNICIPIO_PROVA', 'CO_UF_PROVA', 'CO_MUNICIPIO_ESC', 'TP_PRESENCA_CN',\n",
    "       'TP_PRESENCA_CH', 'TP_PRESENCA_LC', 'TP_PRESENCA_MT', 'CO_PROVA_CN',\n",
    "       'CO_PROVA_CH', 'CO_PROVA_LC', 'CO_PROVA_MT','TX_RESPOSTAS_CN', 'TX_RESPOSTAS_CH',\n",
    "       'TX_RESPOSTAS_LC', 'TX_RESPOSTAS_MT','TP_LINGUA', 'TP_STATUS_REDACAO','TX_GABARITO_CN', 'TX_GABARITO_CH','TX_GABARITO_LC', 'TX_GABARITO_MT'], axis=1)\n",
    "\n",
    "dados_resultados = dados_resultados.rename(columns={\"SG_UF_PROVA\" : \"Estado\", \"TP_DEPENDENCIA_ADM_ESC\" : \"Publica/Privada\",})\n",
    "\n",
    "coluna_essenciais = ['NU_NOTA_CN', 'NU_NOTA_CH', 'NU_NOTA_LC', 'NU_NOTA_MT', 'NU_NOTA_REDACAO', 'Estado', 'Publica/Privada']\n",
    "\n",
    "dados_resultados.dropna(subset=coluna_essenciais, inplace=True)"
   ]
  },
  {
   "cell_type": "code",
   "execution_count": null,
   "id": "3fafcca5",
   "metadata": {},
   "outputs": [],
   "source": [
    "print(dados_resultados.head())"
   ]
  },
  {
   "cell_type": "markdown",
   "id": "1f441a9e",
   "metadata": {},
   "source": [
    "criacao da coluna de media total"
   ]
  },
  {
   "cell_type": "code",
   "execution_count": null,
   "id": "0608cd3c",
   "metadata": {},
   "outputs": [],
   "source": [
    "colunas_notas = ['NU_NOTA_CN', 'NU_NOTA_CH', 'NU_NOTA_LC', 'NU_NOTA_MT', 'NU_NOTA_REDACAO']\n",
    "dados_resultados['MEDIA'] = dados_resultados[colunas_notas].mean(axis=1)\n",
    "print(dados_resultados.head())"
   ]
  },
  {
   "cell_type": "markdown",
   "id": "ab92977b",
   "metadata": {},
   "source": [
    "separacao de escolas publicas e privadas"
   ]
  },
  {
   "cell_type": "code",
   "execution_count": null,
   "id": "ac97a802",
   "metadata": {},
   "outputs": [],
   "source": [
    "map_tp_escola = {1: 'Publica', 2: 'Publica', 3: 'Publica', 4: 'Privada'}"
   ]
  },
  {
   "cell_type": "code",
   "execution_count": null,
   "id": "402e8d56",
   "metadata": {},
   "outputs": [],
   "source": [
    "dados_resultados[\"Publica/Privada\"] = dados_resultados[\"Publica/Privada\"].replace(map_tp_escola)\n",
    "print(dados_resultados.head()) "
   ]
  },
  {
   "cell_type": "markdown",
   "id": "5251d449",
   "metadata": {},
   "source": []
  }
 ],
 "metadata": {
  "kernelspec": {
   "display_name": "venv (3.12.3)",
   "language": "python",
   "name": "python3"
  },
  "language_info": {
   "codemirror_mode": {
    "name": "ipython",
    "version": 3
   },
   "file_extension": ".py",
   "mimetype": "text/x-python",
   "name": "python",
   "nbconvert_exporter": "python",
   "pygments_lexer": "ipython3",
   "version": "3.12.3"
  }
 },
 "nbformat": 4,
 "nbformat_minor": 5
}
